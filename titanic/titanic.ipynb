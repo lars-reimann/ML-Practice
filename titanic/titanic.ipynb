{
 "cells": [
  {
   "cell_type": "code",
   "execution_count": 1,
   "metadata": {
    "collapsed": true,
    "pycharm": {
     "is_executing": false,
     "name": "#%%\n"
    }
   },
   "outputs": [],
   "source": [
    "import pandas as pd\n",
    "from sklearn.compose import ColumnTransformer\n",
    "from sklearn.impute import SimpleImputer\n",
    "from sklearn.model_selection import GridSearchCV\n",
    "from sklearn.pipeline import Pipeline\n",
    "from sklearn.preprocessing import OneHotEncoder\n",
    "\n",
    "data = pd.read_csv(\"data/train.csv\", index_col=\"PassengerId\")\n",
    "data = data.drop([\"Name\", \"Ticket\", \"Cabin\"], axis=1)\n",
    "data[\"Young\"] = data[\"Age\"] < 18\n",
    "\n",
    "X = data.drop(\"Survived\", axis=1)\n",
    "y = data.Survived"
   ]
  },
  {
   "cell_type": "code",
   "execution_count": 26,
   "outputs": [
    {
     "name": "stdout",
     "text": [
      "OneHotEncoder(categorical_features=None, categories=None, drop=None,\n              dtype=<class 'numpy.float64'>, handle_unknown='ignore',\n              n_values=None, sparse=True)\n"
     ],
     "output_type": "stream"
    },
    {
     "data": {
      "text/plain": "array([0.38800122, 0.06856077, 0.0609456 , 0.17182505, 0.17552282,\n       0.04717573, 0.01925365, 0.06871515])"
     },
     "metadata": {},
     "output_type": "execute_result",
     "execution_count": 26
    }
   ],
   "source": [
    "import sklearn\n",
    "from sklearn.ensemble import RandomForestClassifier\n",
    "\n",
    "numerical_cols = [\"Age\", \"SibSp\", \"Parch\"]\n",
    "categorical_cols = [\"Sex\", \"Pclass\"]\n",
    "\n",
    "# Preprocessing for numerical data\n",
    "numerical_transformer = SimpleImputer(strategy='constant')\n",
    "\n",
    "# Preprocessing for categorical data\n",
    "ohe = OneHotEncoder(handle_unknown='ignore')\n",
    "categorical_transformer = Pipeline(steps=[\n",
    "    ('imputer', SimpleImputer(strategy='most_frequent')),\n",
    "    ('onehot', ohe)\n",
    "])\n",
    "\n",
    "sklearn.linear_model.Li\n",
    "\n",
    "# Bundle preprocessing for numerical and categorical data\n",
    "preprocessor = ColumnTransformer(\n",
    "    transformers=[\n",
    "        ('num', numerical_transformer, numerical_cols),\n",
    "        ('cat', categorical_transformer, categorical_cols)\n",
    "    ], remainder=\"drop\")\n",
    "\n",
    "model = RandomForestClassifier(n_estimators=500)\n",
    "# model = GridSearchCV(estimator, [{\n",
    "#     \"learning_rate\": [0.1]\n",
    "# }], scoring=\"accuracy\")\n",
    "\n",
    "pipeline = Pipeline(steps=[\n",
    "    (\"preprocessor\", preprocessor),\n",
    "    (\"model\", model)\n",
    "])\n",
    "\n",
    "pipeline.fit(X, y)\n",
    "\n",
    "print(ohe)\n",
    "model.feature_importances_"
   ],
   "metadata": {
    "collapsed": false,
    "pycharm": {
     "name": "#%%\n",
     "is_executing": false
    }
   }
  },
  {
   "cell_type": "code",
   "execution_count": null,
   "outputs": [],
   "source": [
    "test = pd.read_csv(\"data/test.csv\", index_col=\"PassengerId\")\n",
    "test = test.drop([\"Name\", \"Ticket\", \"Cabin\"], axis=1)\n",
    "predictions = pipeline.predict(test).round().astype(int)\n",
    "\n",
    "output = pd.DataFrame({\n",
    "    \"Survived\": predictions\n",
    "}, index=test.index)\n",
    "output.to_csv(\"data/predictions.csv\")"
   ],
   "metadata": {
    "collapsed": false,
    "pycharm": {
     "name": "#%%\n",
     "is_executing": false
    }
   }
  }
 ],
 "metadata": {
  "language_info": {
   "codemirror_mode": {
    "name": "ipython",
    "version": 2
   },
   "file_extension": ".py",
   "mimetype": "text/x-python",
   "name": "python",
   "nbconvert_exporter": "python",
   "pygments_lexer": "ipython2",
   "version": "2.7.6"
  },
  "kernelspec": {
   "name": "python3",
   "language": "python",
   "display_name": "Python 3"
  },
  "pycharm": {
   "stem_cell": {
    "cell_type": "raw",
    "source": [],
    "metadata": {
     "collapsed": false
    }
   }
  }
 },
 "nbformat": 4,
 "nbformat_minor": 0
}