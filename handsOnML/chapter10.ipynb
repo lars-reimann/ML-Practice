{
 "cells": [
  {
   "cell_type": "code",
   "execution_count": 6,
   "metadata": {
    "collapsed": true,
    "pycharm": {
     "is_executing": false
    }
   },
   "outputs": [
    {
     "data": {
      "text/plain": "array([1])"
     },
     "metadata": {},
     "output_type": "execute_result",
     "execution_count": 6
    }
   ],
   "source": [
    "import numpy as np\n",
    "from sklearn.datasets import load_iris\n",
    "from sklearn.linear_model import Perceptron\n",
    "\n",
    "iris = load_iris()\n",
    "X = iris.data[:, (2, 3)]\n",
    "y = (iris.target == 0).astype(np.int)\n",
    "\n",
    "per_clf = Perceptron(random_state=42)\n",
    "per_clf.fit(X, y)\n",
    "\n",
    "y_pred = per_clf.predict([[2, 0.5]])\n",
    "y_pred\n"
   ]
  },
  {
   "cell_type": "code",
   "execution_count": 20,
   "outputs": [
    {
     "name": "stderr",
     "text": [
      "W0718 10:25:38.177136  3900 data_feeder.py:283] float64 is not supported by many models, consider casting to float32.\n",
      "W0718 10:25:38.180136  3900 estimator.py:453] Using temporary folder as model directory: C:\\Users\\Lars\\AppData\\Local\\Temp\\tmpb3sxf8ou\n",
      "W0718 10:25:38.181137  3900 data_feeder.py:283] float64 is not supported by many models, consider casting to float32.\n"
     ],
     "output_type": "stream"
    },
    {
     "data": {
      "text/plain": "SKCompat()"
     },
     "metadata": {},
     "output_type": "execute_result",
     "execution_count": 20
    }
   ],
   "source": [
    "from sklearn.datasets import load_digits\n",
    "from sklearn.preprocessing import StandardScaler\n",
    "from sklearn.model_selection import train_test_split\n",
    "\n",
    "digits = load_digits()\n",
    "X = digits.data\n",
    "y = digits.target\n",
    "\n",
    "X_train, X_test, y_train, y_test = train_test_split(X, y)\n",
    "\n",
    "scaler = StandardScaler()\n",
    "X_train = scaler.fit_transform(X_train)\n",
    "X_test = scaler.transform(X_test)\n",
    "\n",
    "import tensorflow.contrib.learn as tf\n",
    "\n",
    "features_cols = tf.infer_real_valued_columns_from_input(X_train)\n",
    "dnn_clf = tf.DNNClassifier(hidden_units=[300, 100], n_classes=10, feature_columns=features_cols)\n",
    "dnn_clf = tf.SKCompat(dnn_clf)\n",
    "dnn_clf.fit(X_train, y_train, batch_size=50, steps=40000)"
   ],
   "metadata": {
    "collapsed": false,
    "pycharm": {
     "name": "#%%\n",
     "is_executing": false
    }
   }
  },
  {
   "cell_type": "code",
   "execution_count": 33,
   "outputs": [
    {
     "name": "stderr",
     "text": [
      "W0718 10:37:16.262343  3900 data_feeder.py:283] float64 is not supported by many models, consider casting to float32.\n"
     ],
     "output_type": "stream"
    },
    {
     "data": {
      "text/plain": "0.9844444444444445"
     },
     "metadata": {},
     "output_type": "execute_result",
     "execution_count": 33
    }
   ],
   "source": [
    "from sklearn.metrics import accuracy_score\n",
    "\n",
    "y_pred = dnn_clf.predict(X_test)\n",
    "accuracy_score(y_test, y_pred[\"classes\"])"
   ],
   "metadata": {
    "collapsed": false,
    "pycharm": {
     "name": "#%%\n",
     "is_executing": false
    }
   }
  },
  {
   "cell_type": "code",
   "execution_count": 34,
   "outputs": [
    {
     "name": "stderr",
     "text": [
      "W0718 11:12:29.234174  3900 deprecation.py:323] From <ipython-input-34-416982bd73a2>:25: dense (from tensorflow.python.layers.core) is deprecated and will be removed in a future version.\nInstructions for updating:\nUse keras.layers.dense instead.\n",
      "W0718 11:12:29.236169  3900 deprecation.py:506] From c:\\users\\lars\\appdata\\local\\programs\\python\\python37\\lib\\site-packages\\tensorflow\\python\\ops\\init_ops.py:1251: calling VarianceScaling.__init__ (from tensorflow.python.ops.init_ops) with dtype is deprecated and will be removed in a future version.\nInstructions for updating:\nCall initializer instance with the dtype argument instead of passing it to the constructor\n"
     ],
     "output_type": "stream"
    }
   ],
   "source": [
    "import tensorflow as tf\n",
    "\n",
    "n_inputs = 28*28\n",
    "n_hidden1 = 300\n",
    "n_hidden2 = 100\n",
    "n_outputs = 10\n",
    "\n",
    "X = tf.placeholder(tf.float32, shape=(None, n_inputs), name=\"X\")\n",
    "y = tf.placeholder(tf.int64, shape=None, name=\"y\")\n",
    "\n",
    "def neuron_layer(X, n_neurons, name, activation=None):\n",
    "    with tf.name_scope(name):\n",
    "        n_inputs = int(X.get_shape()[1])\n",
    "        stdev = 2 / np.sqrt(n_inputs + n_neurons)\n",
    "        init = tf.truncated_normal((n_inputs, n_neurons), stddev=stdev)\n",
    "        W = tf.Variable(init, name=\"kernel\")\n",
    "        b = tf.Variable(tf.zeros([n_neurons]), name=\"bias\")\n",
    "        Z = tf.matmul(X, W) + b\n",
    "        if activation is not None:\n",
    "            return activation(Z)\n",
    "        else:\n",
    "            return Z\n",
    "        \n",
    "with tf.name_scope(\"dnn\"):\n",
    "    hidden1 = tf.layers.dense(X, n_hidden1, name=\"hidden1\", activation=tf.nn.relu)\n",
    "    hidden2 = tf.layers.dense(hidden1, n_hidden2, name=\"hidden2\", activation=tf.nn.relu)\n",
    "    logits = tf.layers.dense(hidden2, n_outputs, name=\"outputs\")\n",
    "\n",
    "with tf.name_scope(\"loss\"):\n",
    "    xentropy = tf.nn.sparse_softmax_cross_entropy_with_logits(labels=y, logits=logits)\n",
    "    loss=tf.reduce_mean(xentropy, name=\"loss\")\n",
    "    \n",
    "learning_rate = 0.01\n",
    "\n",
    "with tf.name_scope(\"train\"):\n",
    "    optimizer = tf.train.GradientDescentOptimizer(learning_rate)\n",
    "    training_op = optimizer.minimize(loss)\n",
    "    \n",
    "with tf.name_scope(\"eval\"):\n",
    "    correct = tf.nn.in_top_k(logits, y, 1)\n",
    "    accuracy = tf.reduce_mean(tf.cast(correct, tf.float32))\n",
    "    \n",
    "init = tf.global_variables_initializer()\n",
    "saver = tf.train.Saver()"
   ],
   "metadata": {
    "collapsed": false,
    "pycharm": {
     "name": "#%%\n",
     "is_executing": false
    }
   }
  },
  {
   "cell_type": "code",
   "execution_count": 35,
   "outputs": [
    {
     "name": "stderr",
     "text": [
      "W0718 11:20:00.280307  3900 deprecation.py:323] From <ipython-input-35-1f324459dc69>:3: read_data_sets (from tensorflow.contrib.learn.python.learn.datasets.mnist) is deprecated and will be removed in a future version.\nInstructions for updating:\nPlease use alternatives such as official/mnist/dataset.py from tensorflow/models.\n",
      "W0718 11:20:00.280307  3900 deprecation.py:323] From c:\\users\\lars\\appdata\\local\\programs\\python\\python37\\lib\\site-packages\\tensorflow\\contrib\\learn\\python\\learn\\datasets\\mnist.py:260: maybe_download (from tensorflow.contrib.learn.python.learn.datasets.base) is deprecated and will be removed in a future version.\nInstructions for updating:\nPlease write your own downloading logic.\n",
      "W0718 11:20:00.282281  3900 deprecation.py:323] From c:\\users\\lars\\appdata\\local\\programs\\python\\python37\\lib\\site-packages\\tensorflow\\contrib\\learn\\python\\learn\\datasets\\base.py:252: _internal_retry.<locals>.wrap.<locals>.wrapped_fn (from tensorflow.contrib.learn.python.learn.datasets.base) is deprecated and will be removed in a future version.\nInstructions for updating:\nPlease use urllib or similar directly.\n",
      "W0718 11:20:00.711599  3900 deprecation.py:323] From c:\\users\\lars\\appdata\\local\\programs\\python\\python37\\lib\\site-packages\\tensorflow\\contrib\\learn\\python\\learn\\datasets\\mnist.py:262: extract_images (from tensorflow.contrib.learn.python.learn.datasets.mnist) is deprecated and will be removed in a future version.\nInstructions for updating:\nPlease use tf.data to implement this functionality.\n",
      "W0718 11:20:00.987493  3900 deprecation.py:323] From c:\\users\\lars\\appdata\\local\\programs\\python\\python37\\lib\\site-packages\\tensorflow\\contrib\\learn\\python\\learn\\datasets\\mnist.py:267: extract_labels (from tensorflow.contrib.learn.python.learn.datasets.mnist) is deprecated and will be removed in a future version.\nInstructions for updating:\nPlease use tf.data to implement this functionality.\n",
      "W0718 11:20:01.307995  3900 deprecation.py:323] From c:\\users\\lars\\appdata\\local\\programs\\python\\python37\\lib\\site-packages\\tensorflow\\contrib\\learn\\python\\learn\\datasets\\mnist.py:290: DataSet.__init__ (from tensorflow.contrib.learn.python.learn.datasets.mnist) is deprecated and will be removed in a future version.\nInstructions for updating:\nPlease use alternatives such as official/mnist/dataset.py from tensorflow/models.\n"
     ],
     "output_type": "stream"
    },
    {
     "name": "stdout",
     "text": [
      "Successfully downloaded train-images-idx3-ubyte.gz 9912422 bytes.\nExtracting /tmp/data/train-images-idx3-ubyte.gz\n",
      "Successfully downloaded train-labels-idx1-ubyte.gz 28881 bytes.\nExtracting /tmp/data/train-labels-idx1-ubyte.gz\n",
      "Successfully downloaded t10k-images-idx3-ubyte.gz 1648877 bytes.\nExtracting /tmp/data/t10k-images-idx3-ubyte.gz\nSuccessfully downloaded t10k-labels-idx1-ubyte.gz 4542 bytes.\nExtracting /tmp/data/t10k-labels-idx1-ubyte.gz\n",
      "0 Train accuracy: 0.88 Val accuracy: 0.903\n",
      "1 Train accuracy: 0.9 Val accuracy: 0.9224\n",
      "2 Train accuracy: 0.94 Val accuracy: 0.9316\n",
      "3 Train accuracy: 0.94 Val accuracy: 0.9392\n",
      "4 Train accuracy: 0.98 Val accuracy: 0.9446\n",
      "5 Train accuracy: 0.94 Val accuracy: 0.9498\n",
      "6 Train accuracy: 0.96 Val accuracy: 0.9518\n",
      "7 Train accuracy: 0.94 Val accuracy: 0.9576\n",
      "8 Train accuracy: 0.98 Val accuracy: 0.9606\n",
      "9 Train accuracy: 1.0 Val accuracy: 0.9634\n",
      "10 Train accuracy: 0.94 Val accuracy: 0.9644\n",
      "11 Train accuracy: 0.98 Val accuracy: 0.967\n",
      "12 Train accuracy: 1.0 Val accuracy: 0.968\n",
      "13 Train accuracy: 1.0 Val accuracy: 0.9692\n",
      "14 Train accuracy: 0.96 Val accuracy: 0.9684\n",
      "15 Train accuracy: 0.96 Val accuracy: 0.9698\n",
      "16 Train accuracy: 1.0 Val accuracy: 0.9722\n",
      "17 Train accuracy: 0.94 Val accuracy: 0.9732\n",
      "18 Train accuracy: 0.98 Val accuracy: 0.973\n",
      "19 Train accuracy: 0.96 Val accuracy: 0.9744\n",
      "20 Train accuracy: 0.98 Val accuracy: 0.9742\n",
      "21 Train accuracy: 0.98 Val accuracy: 0.9768\n",
      "22 Train accuracy: 0.98 Val accuracy: 0.9766\n",
      "23 Train accuracy: 0.98 Val accuracy: 0.9768\n",
      "24 Train accuracy: 1.0 Val accuracy: 0.9758\n",
      "25 Train accuracy: 0.96 Val accuracy: 0.9762\n",
      "26 Train accuracy: 1.0 Val accuracy: 0.9782\n",
      "27 Train accuracy: 1.0 Val accuracy: 0.9772\n",
      "28 Train accuracy: 0.98 Val accuracy: 0.978\n",
      "29 Train accuracy: 1.0 Val accuracy: 0.9794\n",
      "30 Train accuracy: 1.0 Val accuracy: 0.9794\n",
      "31 Train accuracy: 1.0 Val accuracy: 0.9796\n",
      "32 Train accuracy: 1.0 Val accuracy: 0.9798\n",
      "33 Train accuracy: 0.98 Val accuracy: 0.98\n",
      "34 Train accuracy: 1.0 Val accuracy: 0.9792\n",
      "35 Train accuracy: 1.0 Val accuracy: 0.9804\n",
      "36 Train accuracy: 1.0 Val accuracy: 0.9802\n",
      "37 Train accuracy: 1.0 Val accuracy: 0.9798\n",
      "38 Train accuracy: 1.0 Val accuracy: 0.98\n",
      "39 Train accuracy: 0.98 Val accuracy: 0.9798\n"
     ],
     "output_type": "stream"
    }
   ],
   "source": [
    "from tensorflow.examples.tutorials.mnist import input_data\n",
    "\n",
    "mnist = input_data.read_data_sets(\"/tmp/data/\")\n",
    "\n",
    "n_epochs = 40\n",
    "batch_size = 50\n",
    "\n",
    "with tf.Session() as sess:\n",
    "    init.run()\n",
    "    for epoch in range(n_epochs):\n",
    "        for iteration in range(mnist.train.num_examples // batch_size):\n",
    "            X_batch, y_batch = mnist.train.next_batch(batch_size)\n",
    "            sess.run(training_op, feed_dict={X: X_batch, y: y_batch})\n",
    "        acc_train = accuracy.eval(feed_dict={X: X_batch, y: y_batch})\n",
    "        acc_val = accuracy.eval(feed_dict={\n",
    "            X: mnist.validation.images,\n",
    "            y: mnist.validation.labels\n",
    "        })\n",
    "        print(epoch, \"Train accuracy:\", acc_train, \"Val accuracy:\", acc_val)\n",
    "        \n",
    "    saver.save(sess, \"./logs/my_model_final.ckpt\")"
   ],
   "metadata": {
    "collapsed": false,
    "pycharm": {
     "name": "#%%\n",
     "is_executing": false
    }
   }
  }
 ],
 "metadata": {
  "language_info": {
   "codemirror_mode": {
    "name": "ipython",
    "version": 2
   },
   "file_extension": ".py",
   "mimetype": "text/x-python",
   "name": "python",
   "nbconvert_exporter": "python",
   "pygments_lexer": "ipython2",
   "version": "2.7.6"
  },
  "kernelspec": {
   "name": "python3",
   "language": "python",
   "display_name": "Python 3"
  },
  "pycharm": {
   "stem_cell": {
    "cell_type": "raw",
    "source": [],
    "metadata": {
     "collapsed": false
    }
   }
  }
 },
 "nbformat": 4,
 "nbformat_minor": 0
}